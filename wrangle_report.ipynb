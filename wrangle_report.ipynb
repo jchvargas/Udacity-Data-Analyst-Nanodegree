{
 "cells": [
  {
   "cell_type": "markdown",
   "metadata": {},
   "source": [
    "# Wrangle Report"
   ]
  },
  {
   "cell_type": "markdown",
   "metadata": {},
   "source": [
    "This report explains the process of data cleansing bhalblha"
   ]
  },
  {
   "cell_type": "markdown",
   "metadata": {},
   "source": [
    "Quality issues\n",
    "1. Added ratings column numerator/denominator\n",
    "2. Modified timestamp column \n",
    "3. Dropped rows with invalid dog names\n",
    "4. Removed retweeted ratings\n",
    "5. Made corrections to some denominators/numerater ratings\n",
    "6. Made names all uppercase to make sure there were no duplicates (Susan v SUSAN)\n",
    "7. Modified dog type values to 0/1s\n",
    "8. Updated json tweet column name to match other datasets\n",
    "\n",
    "Tidiness issues \n",
    "1. Removed extra columns\n",
    "2. merged 3 datasets into one"
   ]
  }
 ],
 "metadata": {
  "kernelspec": {
   "display_name": "Python 3",
   "language": "python",
   "name": "python3"
  },
  "language_info": {
   "codemirror_mode": {
    "name": "ipython",
    "version": 3
   },
   "file_extension": ".py",
   "mimetype": "text/x-python",
   "name": "python",
   "nbconvert_exporter": "python",
   "pygments_lexer": "ipython3",
   "version": "3.6.1"
  }
 },
 "nbformat": 4,
 "nbformat_minor": 2
}
